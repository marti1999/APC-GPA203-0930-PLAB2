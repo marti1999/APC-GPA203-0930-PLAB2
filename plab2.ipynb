{
 "cells": [
  {
   "cell_type": "code",
   "execution_count": 6,
   "id": "92eadcf2",
   "metadata": {
    "scrolled": false
   },
   "outputs": [
    {
     "name": "stdout",
     "output_type": "stream",
     "text": [
      "<class 'pandas.core.frame.DataFrame'>\n",
      "RangeIndex: 145460 entries, 0 to 145459\n",
      "Data columns (total 23 columns):\n",
      " #   Column         Non-Null Count   Dtype  \n",
      "---  ------         --------------   -----  \n",
      " 0   Date           145460 non-null  object \n",
      " 1   Location       145460 non-null  object \n",
      " 2   MinTemp        143975 non-null  float64\n",
      " 3   MaxTemp        144199 non-null  float64\n",
      " 4   Rainfall       142199 non-null  float64\n",
      " 5   Evaporation    82670 non-null   float64\n",
      " 6   Sunshine       75625 non-null   float64\n",
      " 7   WindGustDir    135134 non-null  object \n",
      " 8   WindGustSpeed  135197 non-null  float64\n",
      " 9   WindDir9am     134894 non-null  object \n",
      " 10  WindDir3pm     141232 non-null  object \n",
      " 11  WindSpeed9am   143693 non-null  float64\n",
      " 12  WindSpeed3pm   142398 non-null  float64\n",
      " 13  Humidity9am    142806 non-null  float64\n",
      " 14  Humidity3pm    140953 non-null  float64\n",
      " 15  Pressure9am    130395 non-null  float64\n",
      " 16  Pressure3pm    130432 non-null  float64\n",
      " 17  Cloud9am       89572 non-null   float64\n",
      " 18  Cloud3pm       86102 non-null   float64\n",
      " 19  Temp9am        143693 non-null  float64\n",
      " 20  Temp3pm        141851 non-null  float64\n",
      " 21  RainToday      142199 non-null  object \n",
      " 22  RainTomorrow   142193 non-null  object \n",
      "dtypes: float64(16), object(7)\n",
      "memory usage: 25.5+ MB\n",
      "None\n",
      "         Date Location  MinTemp  MaxTemp  Rainfall  Evaporation  Sunshine  \\\n",
      "0  2008-12-01   Albury     13.4     22.9       0.6          NaN       NaN   \n",
      "1  2008-12-02   Albury      7.4     25.1       0.0          NaN       NaN   \n",
      "2  2008-12-03   Albury     12.9     25.7       0.0          NaN       NaN   \n",
      "3  2008-12-04   Albury      9.2     28.0       0.0          NaN       NaN   \n",
      "4  2008-12-05   Albury     17.5     32.3       1.0          NaN       NaN   \n",
      "\n",
      "  WindGustDir  WindGustSpeed WindDir9am WindDir3pm  WindSpeed9am  \\\n",
      "0           W           44.0          W        WNW          20.0   \n",
      "1         WNW           44.0        NNW        WSW           4.0   \n",
      "2         WSW           46.0          W        WSW          19.0   \n",
      "3          NE           24.0         SE          E          11.0   \n",
      "4           W           41.0        ENE         NW           7.0   \n",
      "\n",
      "   WindSpeed3pm  Humidity9am  Humidity3pm  Pressure9am  Pressure3pm  Cloud9am  \\\n",
      "0          24.0         71.0         22.0       1007.7       1007.1       8.0   \n",
      "1          22.0         44.0         25.0       1010.6       1007.8       NaN   \n",
      "2          26.0         38.0         30.0       1007.6       1008.7       NaN   \n",
      "3           9.0         45.0         16.0       1017.6       1012.8       NaN   \n",
      "4          20.0         82.0         33.0       1010.8       1006.0       7.0   \n",
      "\n",
      "   Cloud3pm  Temp9am  Temp3pm RainToday RainTomorrow  \n",
      "0       NaN     16.9     21.8        No           No  \n",
      "1       NaN     17.2     24.3        No           No  \n",
      "2       2.0     21.0     23.2        No           No  \n",
      "3       NaN     18.1     26.5        No           No  \n",
      "4       8.0     17.8     29.7        No           No  \n"
     ]
    },
    {
     "data": {
      "text/plain": [
       "<AxesSubplot:>"
      ]
     },
     "execution_count": 6,
     "metadata": {},
     "output_type": "execute_result"
    },
    {
     "data": {
      "image/png": "[encoded data removed]",
      "text/plain": [
       "<Figure size 720x360 with 1 Axes>"
      ]
     },
     "metadata": {
      "needs_background": "light"
     },
     "output_type": "display_data"
    }
   ],
   "source": [
    "from sklearn.datasets import make_regression\n",
    "import numpy as np\n",
    "import pandas as pd\n",
    "from matplotlib import pyplot as plt\n",
    "import seaborn as sns\n",
    "import scipy.stats\n",
    "\n",
    "pd.set_option(\"display.max_columns\", None)\n",
    "\n",
    "database = pd.read_csv('./weatherAUS.csv')\n",
    "\n",
    "print(database.info())\n",
    "\n",
    "print(database.head())\n",
    "\n",
    "plt.figure(figsize=(10,5))\n",
    "sns.heatmap(database.isnull(), yticklabels = False, cbar=False, cmap='viridis')\n",
    "database = database.drop(columns = ['Evaporation', 'Sunshine', 'Cloud9am', 'Cloud3pm'])\n"
   ]
  },
  {
   "cell_type": "code",
   "execution_count": null,
   "id": "85167971",
   "metadata": {},
   "outputs": [],
   "source": []
  }
 ],
 "metadata": {
  "kernelspec": {
   "display_name": "Python 3 (ipykernel)",
   "language": "python",
   "name": "python3"
  },
  "language_info": {
   "codemirror_mode": {
    "name": "ipython",
    "version": 3
   },
   "file_extension": ".py",
   "mimetype": "text/x-python",
   "name": "python",
   "nbconvert_exporter": "python",
   "pygments_lexer": "ipython3",
   "version": "3.9.6"
  }
 },
 "nbformat": 4,
 "nbformat_minor": 5
}
